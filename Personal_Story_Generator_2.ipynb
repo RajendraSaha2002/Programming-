{
 "cells": [
  {
   "cell_type": "code",
   "execution_count": 1,
   "id": "986adc0b",
   "metadata": {},
   "outputs": [
    {
     "name": "stdout",
     "output_type": "stream",
     "text": [
      "Welcome to the Personalized Story Generator!\n",
      "\n",
      "Here is your personalized story:\n",
      "\n",
      "    Once upon a time, Rajendra Saha went to Kolkata with their best friend Suchismita Saha.\n",
      "    While exploring, they found a magical Rabbit that could talk!\n",
      "    The Rabbit invited them to join in a fun session of Programming.\n",
      "    Everyone laughed and had a wonderful time, feeling very better.\n",
      "    It was a day to remember!\n",
      "    \n"
     ]
    }
   ],
   "source": [
    "def story_generator():\n",
    "    print(\"Welcome to the Personalized Story Generator!\")\n",
    "    name = input(\"Enter your name: \")\n",
    "    place = input(\"Name a place you like: \")\n",
    "    animal = input(\"What's your favorite animal? \")\n",
    "    hobby = input(\"What's your favorite hobby? \")\n",
    "    friend = input(\"Enter a friend's name: \")\n",
    "    emotion = input(\"How are you feeling today? \")\n",
    "\n",
    "    story = f\"\"\"\n",
    "    Once upon a time, {name} went to {place} with their best friend {friend}.\n",
    "    While exploring, they found a magical {animal} that could talk!\n",
    "    The {animal} invited them to join in a fun session of {hobby}.\n",
    "    Everyone laughed and had a wonderful time, feeling very {emotion}.\n",
    "    It was a day to remember!\n",
    "    \"\"\"\n",
    "\n",
    "    print(\"\\nHere is your personalized story:\")\n",
    "    print(story)\n",
    "\n",
    "if __name__ == \"__main__\":\n",
    "    story_generator()"
   ]
  }
 ],
 "metadata": {
  "kernelspec": {
   "display_name": "Python 3",
   "language": "python",
   "name": "python3"
  },
  "language_info": {
   "codemirror_mode": {
    "name": "ipython",
    "version": 3
   },
   "file_extension": ".py",
   "mimetype": "text/x-python",
   "name": "python",
   "nbconvert_exporter": "python",
   "pygments_lexer": "ipython3",
   "version": "3.12.8"
  }
 },
 "nbformat": 4,
 "nbformat_minor": 5
}
