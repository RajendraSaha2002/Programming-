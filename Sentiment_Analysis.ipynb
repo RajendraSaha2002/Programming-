{
 "cells": [
  {
   "cell_type": "code",
   "id": "initial_id",
   "metadata": {
    "collapsed": true,
    "ExecuteTime": {
     "end_time": "2025-07-28T11:06:25.654871Z",
     "start_time": "2025-07-28T11:06:25.643906Z"
    }
   },
   "source": [
    "from textblob import TextBlob\n",
    "\n",
    "text = \"I love learning new things in machine learning and AI!\"\n",
    "blob = TextBlob(text)\n",
    "print(\"Sentiment:\", blob.sentiment)"
   ],
   "outputs": [
    {
     "name": "stdout",
     "output_type": "stream",
     "text": [
      "Sentiment: Sentiment(polarity=0.3352272727272727, subjectivity=0.5272727272727272)\n"
     ]
    }
   ],
   "execution_count": 3
  }
 ],
 "metadata": {
  "kernelspec": {
   "display_name": "Python 3",
   "language": "python",
   "name": "python3"
  },
  "language_info": {
   "codemirror_mode": {
    "name": "ipython",
    "version": 2
   },
   "file_extension": ".py",
   "mimetype": "text/x-python",
   "name": "python",
   "nbconvert_exporter": "python",
   "pygments_lexer": "ipython2",
   "version": "2.7.6"
  }
 },
 "nbformat": 4,
 "nbformat_minor": 5
}
