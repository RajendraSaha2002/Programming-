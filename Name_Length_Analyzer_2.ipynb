{
 "cells": [
  {
   "cell_type": "code",
   "execution_count": 1,
   "id": "9ba6a104",
   "metadata": {},
   "outputs": [
    {
     "name": "stdout",
     "output_type": "stream",
     "text": [
      "Name Length Analysis:\n",
      "Alice: 5 characters\n",
      "Bob: 3 characters\n",
      "Catherine: 9 characters\n",
      "David: 5 characters\n",
      "Eve: 3 characters\n",
      "\n",
      "Statistics:\n",
      "Total names: 5\n",
      "Shortest name: Bob (3 characters)\n",
      "Longest name: Catherine (9 characters)\n",
      "Average length: 5.00 characters\n"
     ]
    }
   ],
   "source": [
    "def name_length_analyzer(names):\n",
    "    print(\"Name Length Analysis:\")\n",
    "    for name in names:\n",
    "        print(f\"{name}: {len(name)} characters\")\n",
    "    lengths = [len(name) for name in names]\n",
    "    print(\"\\nStatistics:\")\n",
    "    print(f\"Total names: {len(names)}\")\n",
    "    print(f\"Shortest name: {min(names, key=len)} ({min(lengths)} characters)\")\n",
    "    print(f\"Longest name: {max(names, key=len)} ({max(lengths)} characters)\")\n",
    "    print(f\"Average length: {sum(lengths)/len(lengths):.2f} characters\")\n",
    "\n",
    "if __name__ == \"__main__\":\n",
    "    # Example list; you can replace this with input() or file reading\n",
    "    names = [\"Alice\", \"Bob\", \"Catherine\", \"David\", \"Eve\"]\n",
    "    name_length_analyzer(names)"
   ]
  }
 ],
 "metadata": {
  "kernelspec": {
   "display_name": "Python 3",
   "language": "python",
   "name": "python3"
  },
  "language_info": {
   "codemirror_mode": {
    "name": "ipython",
    "version": 3
   },
   "file_extension": ".py",
   "mimetype": "text/x-python",
   "name": "python",
   "nbconvert_exporter": "python",
   "pygments_lexer": "ipython3",
   "version": "3.12.8"
  }
 },
 "nbformat": 4,
 "nbformat_minor": 5
}
