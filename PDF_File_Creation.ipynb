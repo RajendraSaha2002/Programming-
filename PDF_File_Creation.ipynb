{
 "cells": [
  {
   "cell_type": "code",
   "execution_count": 4,
   "id": "b3d1465e",
   "metadata": {},
   "outputs": [
    {
     "name": "stdout",
     "output_type": "stream",
     "text": [
      "PDF created as 'Project.pdf'\n"
     ]
    }
   ],
   "source": [
    "from fpdf import FPDF\n",
    "\n",
    "# The last five project names from the image\n",
    "project_names = [\n",
    "    \"1) Pocket-Sized Alarm Circuit\",\n",
    "    \"2) Laser-Triggered Bag Alarm\",\n",
    "    \"3) Pressure-Activated Hidden Bag Alarm\",\n",
    "    \"4) Electronic Whistle\",\n",
    "    \"5) Safety KeyChain Torch\"\n",
    "]\n",
    "\n",
    "pdf = FPDF()\n",
    "pdf.add_page()\n",
    "pdf.set_font(\"Arial\", size=14)\n",
    "\n",
    "for name in project_names:\n",
    "    pdf.cell(0, 10, name, ln=True)\n",
    "\n",
    "pdf.output(\"Project.pdf\")\n",
    "\n",
    "print(\"PDF created as 'Project.pdf'\")\n"
   ]
  },
  {
   "cell_type": "code",
   "execution_count": 5,
   "id": "f432e81f",
   "metadata": {},
   "outputs": [
    {
     "data": {
      "text/html": [
       "<a href='Project.pdf' target='_blank'>Project.pdf</a><br>"
      ],
      "text/plain": [
       "c:\\Users\\Rajendra Saha\\OneDrive\\Desktop\\Programming Projects\\Project.pdf"
      ]
     },
     "execution_count": 5,
     "metadata": {},
     "output_type": "execute_result"
    }
   ],
   "source": [
    "from IPython.display import FileLink\n",
    "FileLink(r'Project.pdf')\n"
   ]
  }
 ],
 "metadata": {
  "kernelspec": {
   "display_name": "Python 3",
   "language": "python",
   "name": "python3"
  },
  "language_info": {
   "codemirror_mode": {
    "name": "ipython",
    "version": 3
   },
   "file_extension": ".py",
   "mimetype": "text/x-python",
   "name": "python",
   "nbconvert_exporter": "python",
   "pygments_lexer": "ipython3",
   "version": "3.12.8"
  }
 },
 "nbformat": 4,
 "nbformat_minor": 5
}
