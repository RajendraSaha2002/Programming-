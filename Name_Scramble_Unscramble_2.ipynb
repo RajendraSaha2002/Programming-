{
 "cells": [
  {
   "cell_type": "code",
   "execution_count": 1,
   "id": "81f330d2",
   "metadata": {},
   "outputs": [
    {
     "name": "stdout",
     "output_type": "stream",
     "text": [
      "Scrambled name: aSjrRnahea da\n",
      "Sorry, that's not correct. The original name was: Rajendra Saha\n"
     ]
    }
   ],
   "source": [
    "import random\n",
    "\n",
    "def scramble_name(name):\n",
    "    name_list = list(name)\n",
    "    random.shuffle(name_list)\n",
    "    return ''.join(name_list)\n",
    "\n",
    "def unscramble_name(scrambled, original):\n",
    "    # For demonstration, just compare with the original\n",
    "    return scrambled == ''.join(sorted(original)) and scrambled == ''.join(sorted(scrambled))\n",
    "\n",
    "if __name__ == \"__main__\":\n",
    "    name = input(\"Enter a name to scramble: \")\n",
    "    scrambled = scramble_name(name)\n",
    "    print(f\"Scrambled name: {scrambled}\")\n",
    "\n",
    "    guess = input(\"Try to unscramble the name: \")\n",
    "    if sorted(guess) == sorted(name):\n",
    "        print(\"Correct! You unscrambled the name.\")\n",
    "    else:\n",
    "        print(f\"Sorry, that's not correct. The original name was: {name}\")"
   ]
  }
 ],
 "metadata": {
  "kernelspec": {
   "display_name": "Python 3",
   "language": "python",
   "name": "python3"
  },
  "language_info": {
   "codemirror_mode": {
    "name": "ipython",
    "version": 3
   },
   "file_extension": ".py",
   "mimetype": "text/x-python",
   "name": "python",
   "nbconvert_exporter": "python",
   "pygments_lexer": "ipython3",
   "version": "3.12.10"
  }
 },
 "nbformat": 4,
 "nbformat_minor": 5
}
