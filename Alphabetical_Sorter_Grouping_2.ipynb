{
 "cells": [
  {
   "cell_type": "code",
   "execution_count": null,
   "id": "aea8bdc9",
   "metadata": {},
   "outputs": [
    {
     "name": "stdout",
     "output_type": "stream",
     "text": [
      "A: Apple, apricot, avocado\n",
      "B: banana, Blackberry, blueberry\n",
      "C: cherry, cranberry\n",
      "D: date\n",
      "E: elderberry\n"
     ]
    }
   ],
   "source": [
    "from collections import defaultdict\n",
    "\n",
    "def alphabetical_sort_and_group(words):\n",
    "    # Sort the words alphabetically\n",
    "    sorted_words = sorted(words, key=lambda x: x.lower())\n",
    "    # Group words by their starting letter\n",
    "    grouped = defaultdict(list)\n",
    "    for word in sorted_words:\n",
    "        first_letter = word[0].upper()\n",
    "        grouped[first_letter].append(word)\n",
    "    # Display the groups\n",
    "    for letter in sorted(grouped.keys()):\n",
    "        print(f\"{letter}: {', '.join(grouped[letter])}\")\n",
    "\n",
    "if __name__ == \"__main__\":\n",
    "    # Example input\n",
    "    words = [\n",
    "        \"banana\", \"Apple\", \"apricot\", \"blueberry\", \"cherry\",\n",
    "        \"avocado\", \"Blackberry\", \"cranberry\", \"date\", \"elderberry\"\n",
    "    ]\n",
    "    alphabetical_sort_and_group(words)"
   ]
  }
 ],
 "metadata": {
  "kernelspec": {
   "display_name": "Python 3",
   "language": "python",
   "name": "python3"
  },
  "language_info": {
   "codemirror_mode": {
    "name": "ipython",
    "version": 3
   },
   "file_extension": ".py",
   "mimetype": "text/x-python",
   "name": "python",
   "nbconvert_exporter": "python",
   "pygments_lexer": "ipython3",
   "version": "3.12.10"
  }
 },
 "nbformat": 4,
 "nbformat_minor": 5
}
