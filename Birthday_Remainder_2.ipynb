{
 "cells": [
  {
   "cell_type": "code",
   "execution_count": 1,
   "id": "aee3182e",
   "metadata": {},
   "outputs": [
    {
     "name": "stdout",
     "output_type": "stream",
     "text": [
      "\n",
      "Birthday Reminder Menu:\n",
      "1. Check today's birthdays\n",
      "2. Add a birthday\n",
      "3. Show all birthdays\n",
      "4. Exit\n",
      "Added Suchismita Saha's birthday on 09-24.\n",
      "\n",
      "Birthday Reminder Menu:\n",
      "1. Check today's birthdays\n",
      "2. Add a birthday\n",
      "3. Show all birthdays\n",
      "4. Exit\n",
      "Goodbye!\n"
     ]
    }
   ],
   "source": [
    "import datetime\n",
    "\n",
    "# Sample birthday data (name: \"MM-DD\")\n",
    "birthdays = {\n",
    "    \"Alice\": \"06-19\",\n",
    "    \"Bob\": \"12-25\",\n",
    "    \"Charlie\": \"03-15\"\n",
    "}\n",
    "\n",
    "def check_birthdays(birthdays):\n",
    "    today = datetime.datetime.now().strftime(\"%m-%d\")\n",
    "    found = False\n",
    "    for name, bday in birthdays.items():\n",
    "        if bday == today:\n",
    "            print(f\"🎉 Happy Birthday, {name}! Wishing you a fantastic year ahead! 🎂\")\n",
    "            found = True\n",
    "    if not found:\n",
    "        print(\"No birthdays today.\")\n",
    "\n",
    "def add_birthday(birthdays):\n",
    "    name = input(\"Enter the person's name: \")\n",
    "    date = input(\"Enter their birthday (MM-DD): \")\n",
    "    birthdays[name] = date\n",
    "    print(f\"Added {name}'s birthday on {date}.\")\n",
    "\n",
    "if __name__ == \"__main__\":\n",
    "    while True:\n",
    "        print(\"\\nBirthday Reminder Menu:\")\n",
    "        print(\"1. Check today's birthdays\")\n",
    "        print(\"2. Add a birthday\")\n",
    "        print(\"3. Show all birthdays\")\n",
    "        print(\"4. Exit\")\n",
    "        choice = input(\"Choose an option: \")\n",
    "        if choice == \"1\":\n",
    "            check_birthdays(birthdays)\n",
    "        elif choice == \"2\":\n",
    "            add_birthday(birthdays)\n",
    "        elif choice == \"3\":\n",
    "            for name, date in birthdays.items():\n",
    "                print(f\"{name}: {date}\")\n",
    "        elif choice == \"4\":\n",
    "            print(\"Goodbye!\")\n",
    "            break\n",
    "        else:\n",
    "            print(\"Invalid choice. Please try again.\")"
   ]
  }
 ],
 "metadata": {
  "kernelspec": {
   "display_name": "Python 3",
   "language": "python",
   "name": "python3"
  },
  "language_info": {
   "codemirror_mode": {
    "name": "ipython",
    "version": 3
   },
   "file_extension": ".py",
   "mimetype": "text/x-python",
   "name": "python",
   "nbconvert_exporter": "python",
   "pygments_lexer": "ipython3",
   "version": "3.12.10"
  }
 },
 "nbformat": 4,
 "nbformat_minor": 5
}
